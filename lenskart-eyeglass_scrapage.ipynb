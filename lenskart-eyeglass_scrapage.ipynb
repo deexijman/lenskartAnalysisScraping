{
 "cells": [
  {
   "cell_type": "code",
   "execution_count": 7,
   "id": "cfe5ca5a-a25c-428f-8f2c-83986ae3d47e",
   "metadata": {},
   "outputs": [],
   "source": [
    "import requests\n",
    "import pandas as pd\n",
    "import json"
   ]
  },
  {
   "cell_type": "code",
   "execution_count": 2,
   "id": "43cde89f-efb8-4af9-bd2b-62857c929629",
   "metadata": {},
   "outputs": [],
   "source": [
    "# storing the base api\n",
    "base_api = \"https://api-gateway.juno.lenskart.com/v2/products/category/\""
   ]
  },
  {
   "cell_type": "code",
   "execution_count": 3,
   "id": "0a9672fd-4526-489c-a688-3e29466af9f0",
   "metadata": {},
   "outputs": [],
   "source": [
    "# making dictionary to traverse different pages\n",
    "apiHittingMetrics = {'3363':[1400, 4],\n",
    "                     '3362':[1300,3]}"
   ]
  },
  {
   "cell_type": "code",
   "execution_count": 4,
   "id": "3be8f77e-ba07-4f66-9640-da386f345aec",
   "metadata": {},
   "outputs": [],
   "source": [
    "# intializing an array to store all json data\n",
    "all_eyeglasses = []\n",
    "all_sunglasses = []"
   ]
  },
  {
   "cell_type": "code",
   "execution_count": 5,
   "id": "07f2cd09-7953-4aef-919d-7306ab6dc78b",
   "metadata": {
    "scrolled": true
   },
   "outputs": [],
   "source": [
    "#looping each page and collecting data to store in array\n",
    "for id in apiHittingMetrics.keys():\n",
    "    product_length_api = f'{base_api}{id}?page-size={apiHittingMetrics[id][0]}'\n",
    "    for page_no in range(apiHittingMetrics[id][1]):\n",
    "        products_page_api = f'{product_length_api}&page={page_no}'\n",
    "        response = requests.get(products_page_api)\n",
    "        desearilized_response = json.loads(response.text)\n",
    "        if id == '3363':\n",
    "            all_eyeglasses.extend(desearilized_response[\"result\"].get(\"product_list\", None))\n",
    "        else:\n",
    "            all_sunglasses.extend(desearilized_response[\"result\"].get(\"product_list\", None))\n",
    "            "
   ]
  },
  {
   "cell_type": "code",
   "execution_count": 6,
   "id": "52adb98d-dc5b-4f83-bad5-e10417f6bedc",
   "metadata": {
    "scrolled": true
   },
   "outputs": [],
   "source": [
    "# converting the json data to data frame \n",
    "all_eyeglasses_df = pd.DataFrame(all_eyeglasses)\n",
    "all_sunglasses_df = pd.DataFrame(all_sunglasses)"
   ]
  },
  {
   "cell_type": "code",
   "execution_count": 37,
   "id": "418bdeca-0e5c-42fd-b217-20d9826157dd",
   "metadata": {},
   "outputs": [],
   "source": [
    "# converting the dataframe to csv file \n",
    "all_sunglasses_df.to_csv('sunglasses.csv', index=None)\n",
    "all_eyeglasses_df.to_csv('eyeglasses.csv', index=None)"
   ]
  },
  {
   "cell_type": "code",
   "execution_count": null,
   "id": "a36ebdf5-869e-4d10-99a2-605253dd275a",
   "metadata": {},
   "outputs": [],
   "source": []
  }
 ],
 "metadata": {
  "kernelspec": {
   "display_name": "Python 3 (ipykernel)",
   "language": "python",
   "name": "python3"
  },
  "language_info": {
   "codemirror_mode": {
    "name": "ipython",
    "version": 3
   },
   "file_extension": ".py",
   "mimetype": "text/x-python",
   "name": "python",
   "nbconvert_exporter": "python",
   "pygments_lexer": "ipython3",
   "version": "3.12.2"
  }
 },
 "nbformat": 4,
 "nbformat_minor": 5
}
