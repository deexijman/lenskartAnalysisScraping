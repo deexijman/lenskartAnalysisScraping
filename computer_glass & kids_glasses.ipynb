{
 "cells": [
  {
   "cell_type": "code",
   "execution_count": 20,
   "id": "cfe5ca5a-a25c-428f-8f2c-83986ae3d47e",
   "metadata": {},
   "outputs": [],
   "source": [
    "import requests\n",
    "import pandas as pd\n",
    "import json"
   ]
  },
  {
   "cell_type": "code",
   "execution_count": 21,
   "id": "76ead08c-bf23-4a36-9835-e48034c29ef4",
   "metadata": {},
   "outputs": [],
   "source": [
    "# making array for storing the json data;\n",
    "comp_eyeglasses = []\n",
    "kids_eyeglasses = []"
   ]
  },
  {
   "cell_type": "code",
   "execution_count": 24,
   "id": "07f2cd09-7953-4aef-919d-7306ab6dc78b",
   "metadata": {
    "scrolled": true
   },
   "outputs": [],
   "source": [
    "# compputer_glasses_api\n",
    "comp_products_api = \"https://api-gateway.juno.lenskart.com/v2/products/category/8427?page-size=5000&page=0\"\n",
    "\n",
    "# kids_glasses_api\n",
    "kids_product_api=\"https://api-gateway.juno.lenskart.com/v2/products/category/8415?page-size=5000&page=0\"\n",
    "\n",
    "response = requests.get(products_page_api)\n",
    "\n",
    "# loading the responce in json format\n",
    "desearilized_response = json.loads(response.text)\n",
    "\n",
    "\n",
    "#storing the json data in the array \n",
    "comp_eyeglasses.extend(desearilized_response[\"result\"].get(\"product_list\", None))\n",
    "# kids_eyeglasses.extend(desearilized_response[\"result\"].get(\"product_list\", None))\n",
    "            "
   ]
  },
  {
   "cell_type": "code",
   "execution_count": 25,
   "id": "52adb98d-dc5b-4f83-bad5-e10417f6bedc",
   "metadata": {
    "scrolled": true
   },
   "outputs": [],
   "source": [
    "# converting the json format into dataframe\n",
    "comp_eyeglasses_df = pd.DataFrame(comp_eyeglasses)\n",
    "\n",
    "kids_eyeglasses_df = pd.DataFrame(kids_eyeglasses)"
   ]
  },
  {
   "cell_type": "code",
   "execution_count": 12,
   "id": "0b506947-f552-4a2a-99b8-74a4f99877c0",
   "metadata": {},
   "outputs": [],
   "source": [
    "# greating lamda  funtion for splitting the price\n",
    "get_price = lambda prices, name: next(item['price'] for item in prices if item['name'] == name)"
   ]
  },
  {
   "cell_type": "code",
   "execution_count": 68,
   "id": "fe994f81-28db-4922-a3b0-cd4b85df8518",
   "metadata": {},
   "outputs": [],
   "source": [
    "# splitting the price with the help of the lamda funtion for computer glasses\n",
    "comp_eyeglasses_df['Market Price'] = comp_eyeglasses_df['prices'].apply(lambda x: get_price(x, 'Market Price'))\n",
    "comp_eyeglasses_df['Lenskart Price'] = comp_eyeglasses_df['prices'].apply(lambda x: get_price(x, 'Lenskart Price'))\n",
    "\n",
    "# splitting the price with the help of the lamda funtion for kids glasses\n",
    "kids_eyeglasses_df['Market Price'] = kids_eyeglasses_df['prices'].apply(lambda x: get_price(x, 'Market Price'))\n",
    "kids_eyeglasses_df['Lenskart Price'] = kids_eyeglasses_df['prices'].apply(lambda x: get_price(x, 'Lenskart Price'))"
   ]
  },
  {
   "cell_type": "code",
   "execution_count": 70,
   "id": "398d4aad-26e2-4ce2-ac71-dfc79dce9840",
   "metadata": {},
   "outputs": [],
   "source": [
    "# conerting the dataframe into csv file\n",
    "comp_eyeglasses_df.to_csv('comput_eyeglasses.csv', index=None)\n",
    "\n",
    "kids_eyeglasses_df.to_csv('kids_eyeglasses.csv', index=None)\n"
   ]
  },
  {
   "cell_type": "code",
   "execution_count": null,
   "id": "3d84c450-4f65-4db5-b19f-3a8297506fa0",
   "metadata": {},
   "outputs": [],
   "source": []
  }
 ],
 "metadata": {
  "kernelspec": {
   "display_name": "Python 3 (ipykernel)",
   "language": "python",
   "name": "python3"
  },
  "language_info": {
   "codemirror_mode": {
    "name": "ipython",
    "version": 3
   },
   "file_extension": ".py",
   "mimetype": "text/x-python",
   "name": "python",
   "nbconvert_exporter": "python",
   "pygments_lexer": "ipython3",
   "version": "3.12.2"
  }
 },
 "nbformat": 4,
 "nbformat_minor": 5
}
